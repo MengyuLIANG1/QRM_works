{
  "nbformat": 4,
  "nbformat_minor": 0,
  "metadata": {
    "colab": {
      "provenance": [],
      "authorship_tag": "ABX9TyPSwRjg2G7yrayDlyCX+ikG",
      "include_colab_link": true
    },
    "kernelspec": {
      "name": "python3",
      "display_name": "Python 3"
    },
    "language_info": {
      "name": "python"
    }
  },
  "cells": [
    {
      "cell_type": "markdown",
      "metadata": {
        "id": "view-in-github",
        "colab_type": "text"
      },
      "source": [
        "<a href=\"https://colab.research.google.com/github/MengyuLIANG1/QRM_works/blob/main/QRM_EX1.ipynb\" target=\"_parent\"><img src=\"https://colab.research.google.com/assets/colab-badge.svg\" alt=\"Open In Colab\"/></a>"
      ]
    },
    {
      "cell_type": "code",
      "execution_count": null,
      "metadata": {
        "id": "ELUhHAVC8mHy"
      },
      "outputs": [],
      "source": [
        "# Step 1: Import libraries\n",
        "import numpy as np\n",
        "import pandas as pd\n",
        "from pandas_datareader import data as pdr\n",
        "import yfinance as yf\n",
        "from scipy.stats import norm"
      ]
    },
    {
      "cell_type": "code",
      "source": [
        "# load data\n",
        "yf.pdr_override() # Set Yahoo Finance API for pandas_datareader\n",
        "\n",
        "start_date = \"1993-04-06\"\n",
        "end_date = \"2023-04-06\"\n",
        "\n",
        "# Load S&P 500 data from Yahoo Finance\n",
        "sp500 = pdr.get_data_yahoo(\"^GSPC\", start=start_date, end=end_date)"
      ],
      "metadata": {
        "colab": {
          "base_uri": "https://localhost:8080/"
        },
        "id": "kDiEEpm08s3W",
        "outputId": "41969dd8-7f76-44d9-ae2d-ff57663ce480"
      },
      "execution_count": null,
      "outputs": [
        {
          "output_type": "stream",
          "name": "stdout",
          "text": [
            "\r[*********************100%***********************]  1 of 1 completed\n"
          ]
        }
      ]
    },
    {
      "cell_type": "code",
      "source": [
        "sp500"
      ],
      "metadata": {
        "colab": {
          "base_uri": "https://localhost:8080/",
          "height": 450
        },
        "id": "UaW3D2Wp83dl",
        "outputId": "cdb69ab1-59b1-4f3b-a81c-e5cc0293251e"
      },
      "execution_count": null,
      "outputs": [
        {
          "output_type": "execute_result",
          "data": {
            "text/plain": [
              "                   Open         High          Low        Close    Adj Close  \\\n",
              "Date                                                                          \n",
              "1993-04-06   442.290009   443.380005   439.480011   441.160004   441.160004   \n",
              "1993-04-07   441.160004   442.730011   440.500000   442.730011   442.730011   \n",
              "1993-04-08   442.709991   443.769989   440.019989   441.839996   441.839996   \n",
              "1993-04-12   441.839996   448.369995   441.839996   448.369995   448.369995   \n",
              "1993-04-13   448.410004   450.399994   447.660004   449.220001   449.220001   \n",
              "...                 ...          ...          ...          ...          ...   \n",
              "2023-03-30  4046.739990  4057.850098  4032.100098  4050.830078  4050.830078   \n",
              "2023-03-31  4056.179932  4110.750000  4056.179932  4109.310059  4109.310059   \n",
              "2023-04-03  4102.200195  4127.660156  4098.790039  4124.509766  4124.509766   \n",
              "2023-04-04  4128.029785  4133.129883  4086.870117  4100.600098  4100.600098   \n",
              "2023-04-05  4094.500000  4099.689941  4072.560059  4090.379883  4090.379883   \n",
              "\n",
              "                Volume  \n",
              "Date                    \n",
              "1993-04-06   293680000  \n",
              "1993-04-07   300000000  \n",
              "1993-04-08   284370000  \n",
              "1993-04-12   259690000  \n",
              "1993-04-13   286690000  \n",
              "...                ...  \n",
              "2023-03-30  3930860000  \n",
              "2023-03-31  4525120000  \n",
              "2023-04-03  4234700000  \n",
              "2023-04-04  4227800000  \n",
              "2023-04-05  3968020000  \n",
              "\n",
              "[7555 rows x 6 columns]"
            ],
            "text/html": [
              "\n",
              "  <div id=\"df-69b01e7e-2644-4143-961d-8f026e9627c2\">\n",
              "    <div class=\"colab-df-container\">\n",
              "      <div>\n",
              "<style scoped>\n",
              "    .dataframe tbody tr th:only-of-type {\n",
              "        vertical-align: middle;\n",
              "    }\n",
              "\n",
              "    .dataframe tbody tr th {\n",
              "        vertical-align: top;\n",
              "    }\n",
              "\n",
              "    .dataframe thead th {\n",
              "        text-align: right;\n",
              "    }\n",
              "</style>\n",
              "<table border=\"1\" class=\"dataframe\">\n",
              "  <thead>\n",
              "    <tr style=\"text-align: right;\">\n",
              "      <th></th>\n",
              "      <th>Open</th>\n",
              "      <th>High</th>\n",
              "      <th>Low</th>\n",
              "      <th>Close</th>\n",
              "      <th>Adj Close</th>\n",
              "      <th>Volume</th>\n",
              "    </tr>\n",
              "    <tr>\n",
              "      <th>Date</th>\n",
              "      <th></th>\n",
              "      <th></th>\n",
              "      <th></th>\n",
              "      <th></th>\n",
              "      <th></th>\n",
              "      <th></th>\n",
              "    </tr>\n",
              "  </thead>\n",
              "  <tbody>\n",
              "    <tr>\n",
              "      <th>1993-04-06</th>\n",
              "      <td>442.290009</td>\n",
              "      <td>443.380005</td>\n",
              "      <td>439.480011</td>\n",
              "      <td>441.160004</td>\n",
              "      <td>441.160004</td>\n",
              "      <td>293680000</td>\n",
              "    </tr>\n",
              "    <tr>\n",
              "      <th>1993-04-07</th>\n",
              "      <td>441.160004</td>\n",
              "      <td>442.730011</td>\n",
              "      <td>440.500000</td>\n",
              "      <td>442.730011</td>\n",
              "      <td>442.730011</td>\n",
              "      <td>300000000</td>\n",
              "    </tr>\n",
              "    <tr>\n",
              "      <th>1993-04-08</th>\n",
              "      <td>442.709991</td>\n",
              "      <td>443.769989</td>\n",
              "      <td>440.019989</td>\n",
              "      <td>441.839996</td>\n",
              "      <td>441.839996</td>\n",
              "      <td>284370000</td>\n",
              "    </tr>\n",
              "    <tr>\n",
              "      <th>1993-04-12</th>\n",
              "      <td>441.839996</td>\n",
              "      <td>448.369995</td>\n",
              "      <td>441.839996</td>\n",
              "      <td>448.369995</td>\n",
              "      <td>448.369995</td>\n",
              "      <td>259690000</td>\n",
              "    </tr>\n",
              "    <tr>\n",
              "      <th>1993-04-13</th>\n",
              "      <td>448.410004</td>\n",
              "      <td>450.399994</td>\n",
              "      <td>447.660004</td>\n",
              "      <td>449.220001</td>\n",
              "      <td>449.220001</td>\n",
              "      <td>286690000</td>\n",
              "    </tr>\n",
              "    <tr>\n",
              "      <th>...</th>\n",
              "      <td>...</td>\n",
              "      <td>...</td>\n",
              "      <td>...</td>\n",
              "      <td>...</td>\n",
              "      <td>...</td>\n",
              "      <td>...</td>\n",
              "    </tr>\n",
              "    <tr>\n",
              "      <th>2023-03-30</th>\n",
              "      <td>4046.739990</td>\n",
              "      <td>4057.850098</td>\n",
              "      <td>4032.100098</td>\n",
              "      <td>4050.830078</td>\n",
              "      <td>4050.830078</td>\n",
              "      <td>3930860000</td>\n",
              "    </tr>\n",
              "    <tr>\n",
              "      <th>2023-03-31</th>\n",
              "      <td>4056.179932</td>\n",
              "      <td>4110.750000</td>\n",
              "      <td>4056.179932</td>\n",
              "      <td>4109.310059</td>\n",
              "      <td>4109.310059</td>\n",
              "      <td>4525120000</td>\n",
              "    </tr>\n",
              "    <tr>\n",
              "      <th>2023-04-03</th>\n",
              "      <td>4102.200195</td>\n",
              "      <td>4127.660156</td>\n",
              "      <td>4098.790039</td>\n",
              "      <td>4124.509766</td>\n",
              "      <td>4124.509766</td>\n",
              "      <td>4234700000</td>\n",
              "    </tr>\n",
              "    <tr>\n",
              "      <th>2023-04-04</th>\n",
              "      <td>4128.029785</td>\n",
              "      <td>4133.129883</td>\n",
              "      <td>4086.870117</td>\n",
              "      <td>4100.600098</td>\n",
              "      <td>4100.600098</td>\n",
              "      <td>4227800000</td>\n",
              "    </tr>\n",
              "    <tr>\n",
              "      <th>2023-04-05</th>\n",
              "      <td>4094.500000</td>\n",
              "      <td>4099.689941</td>\n",
              "      <td>4072.560059</td>\n",
              "      <td>4090.379883</td>\n",
              "      <td>4090.379883</td>\n",
              "      <td>3968020000</td>\n",
              "    </tr>\n",
              "  </tbody>\n",
              "</table>\n",
              "<p>7555 rows × 6 columns</p>\n",
              "</div>\n",
              "      <button class=\"colab-df-convert\" onclick=\"convertToInteractive('df-69b01e7e-2644-4143-961d-8f026e9627c2')\"\n",
              "              title=\"Convert this dataframe to an interactive table.\"\n",
              "              style=\"display:none;\">\n",
              "        \n",
              "  <svg xmlns=\"http://www.w3.org/2000/svg\" height=\"24px\"viewBox=\"0 0 24 24\"\n",
              "       width=\"24px\">\n",
              "    <path d=\"M0 0h24v24H0V0z\" fill=\"none\"/>\n",
              "    <path d=\"M18.56 5.44l.94 2.06.94-2.06 2.06-.94-2.06-.94-.94-2.06-.94 2.06-2.06.94zm-11 1L8.5 8.5l.94-2.06 2.06-.94-2.06-.94L8.5 2.5l-.94 2.06-2.06.94zm10 10l.94 2.06.94-2.06 2.06-.94-2.06-.94-.94-2.06-.94 2.06-2.06.94z\"/><path d=\"M17.41 7.96l-1.37-1.37c-.4-.4-.92-.59-1.43-.59-.52 0-1.04.2-1.43.59L10.3 9.45l-7.72 7.72c-.78.78-.78 2.05 0 2.83L4 21.41c.39.39.9.59 1.41.59.51 0 1.02-.2 1.41-.59l7.78-7.78 2.81-2.81c.8-.78.8-2.07 0-2.86zM5.41 20L4 18.59l7.72-7.72 1.47 1.35L5.41 20z\"/>\n",
              "  </svg>\n",
              "      </button>\n",
              "      \n",
              "  <style>\n",
              "    .colab-df-container {\n",
              "      display:flex;\n",
              "      flex-wrap:wrap;\n",
              "      gap: 12px;\n",
              "    }\n",
              "\n",
              "    .colab-df-convert {\n",
              "      background-color: #E8F0FE;\n",
              "      border: none;\n",
              "      border-radius: 50%;\n",
              "      cursor: pointer;\n",
              "      display: none;\n",
              "      fill: #1967D2;\n",
              "      height: 32px;\n",
              "      padding: 0 0 0 0;\n",
              "      width: 32px;\n",
              "    }\n",
              "\n",
              "    .colab-df-convert:hover {\n",
              "      background-color: #E2EBFA;\n",
              "      box-shadow: 0px 1px 2px rgba(60, 64, 67, 0.3), 0px 1px 3px 1px rgba(60, 64, 67, 0.15);\n",
              "      fill: #174EA6;\n",
              "    }\n",
              "\n",
              "    [theme=dark] .colab-df-convert {\n",
              "      background-color: #3B4455;\n",
              "      fill: #D2E3FC;\n",
              "    }\n",
              "\n",
              "    [theme=dark] .colab-df-convert:hover {\n",
              "      background-color: #434B5C;\n",
              "      box-shadow: 0px 1px 3px 1px rgba(0, 0, 0, 0.15);\n",
              "      filter: drop-shadow(0px 1px 2px rgba(0, 0, 0, 0.3));\n",
              "      fill: #FFFFFF;\n",
              "    }\n",
              "  </style>\n",
              "\n",
              "      <script>\n",
              "        const buttonEl =\n",
              "          document.querySelector('#df-69b01e7e-2644-4143-961d-8f026e9627c2 button.colab-df-convert');\n",
              "        buttonEl.style.display =\n",
              "          google.colab.kernel.accessAllowed ? 'block' : 'none';\n",
              "\n",
              "        async function convertToInteractive(key) {\n",
              "          const element = document.querySelector('#df-69b01e7e-2644-4143-961d-8f026e9627c2');\n",
              "          const dataTable =\n",
              "            await google.colab.kernel.invokeFunction('convertToInteractive',\n",
              "                                                     [key], {});\n",
              "          if (!dataTable) return;\n",
              "\n",
              "          const docLinkHtml = 'Like what you see? Visit the ' +\n",
              "            '<a target=\"_blank\" href=https://colab.research.google.com/notebooks/data_table.ipynb>data table notebook</a>'\n",
              "            + ' to learn more about interactive tables.';\n",
              "          element.innerHTML = '';\n",
              "          dataTable['output_type'] = 'display_data';\n",
              "          await google.colab.output.renderOutput(dataTable, element);\n",
              "          const docLink = document.createElement('div');\n",
              "          docLink.innerHTML = docLinkHtml;\n",
              "          element.appendChild(docLink);\n",
              "        }\n",
              "      </script>\n",
              "    </div>\n",
              "  </div>\n",
              "  "
            ]
          },
          "metadata": {},
          "execution_count": 3
        }
      ]
    },
    {
      "cell_type": "markdown",
      "source": [
        "### 2. Compute the average $\\mu$ and the variance $\\sigma^2$ of the losses (-log-return):\n",
        "\n",
        "$$L_t=-(logP_t -logP_{t-1})$$"
      ],
      "metadata": {
        "id": "c_snX7v198gw"
      }
    },
    {
      "cell_type": "code",
      "source": [
        "#Calculate daily log-returns and losses\n",
        "prices=sp500['Adj Close']\n",
        "log_returns = np.log(prices) - np.log(prices.shift(1))\n",
        "losses = -log_returns.dropna()"
      ],
      "metadata": {
        "id": "CR1FtKkV9OIL"
      },
      "execution_count": null,
      "outputs": []
    },
    {
      "cell_type": "code",
      "source": [
        "losses"
      ],
      "metadata": {
        "colab": {
          "base_uri": "https://localhost:8080/"
        },
        "id": "TDClsEmbJLal",
        "outputId": "258b3c8d-419e-4b3a-8b60-b3e622d68c16"
      },
      "execution_count": null,
      "outputs": [
        {
          "output_type": "execute_result",
          "data": {
            "text/plain": [
              "Date\n",
              "1993-04-07   -0.003552\n",
              "1993-04-08    0.002012\n",
              "1993-04-12   -0.014671\n",
              "1993-04-13   -0.001894\n",
              "1993-04-14    0.001247\n",
              "                ...   \n",
              "2023-03-30   -0.005699\n",
              "2023-03-31   -0.014333\n",
              "2023-04-03   -0.003692\n",
              "2023-04-04    0.005814\n",
              "2023-04-05    0.002495\n",
              "Name: Adj Close, Length: 7554, dtype: float64"
            ]
          },
          "metadata": {},
          "execution_count": 5
        }
      ]
    },
    {
      "cell_type": "code",
      "source": [
        "# Calculate the  the average 𝜇 and the variance 𝜎2 of the losses\n",
        "mu = losses.mean()\n",
        "sigma2 = losses.var()\n",
        "print('Average is : {}'.format(mu))\n",
        "print('Variance is : {}'.format(sigma2))"
      ],
      "metadata": {
        "colab": {
          "base_uri": "https://localhost:8080/"
        },
        "id": "SGqT_STH-n3K",
        "outputId": "e608c504-c6f7-417e-c1bc-aabfc44b1628"
      },
      "execution_count": null,
      "outputs": [
        {
          "output_type": "stream",
          "name": "stdout",
          "text": [
            "Average is : -0.00029480877625998156\n",
            "Variance is : 0.0001398701996109016\n"
          ]
        }
      ]
    },
    {
      "cell_type": "markdown",
      "source": [
        "### 3. Compute empirically the $VaR_{\\alpha}$ and the $ES_{\\alpha}$from the data with $\\alpha$ = 99%"
      ],
      "metadata": {
        "id": "odl7Y47Z_X5i"
      }
    },
    {
      "cell_type": "code",
      "source": [
        "# Step 4: Compute empirical VaR and ES\n",
        "alpha = 0.99\n",
        "var_empirical = np.percentile(losses, alpha*100)\n",
        "es_empirical = losses[losses >= var_empirical].mean()\n",
        "print(\"Empirical VaR (99%):\", var_empirical)\n",
        "print(\"Empirical ES (99%):\", es_empirical)"
      ],
      "metadata": {
        "colab": {
          "base_uri": "https://localhost:8080/"
        },
        "id": "CPmLhbI5_Wx6",
        "outputId": "8dacfa7a-9dda-4b35-f75d-81c5be03af4e"
      },
      "execution_count": null,
      "outputs": [
        {
          "output_type": "stream",
          "name": "stdout",
          "text": [
            "Empirical VaR (99%): 0.03343896081420468\n",
            "Empirical ES (99%): 0.04892797623674416\n"
          ]
        }
      ]
    },
    {
      "cell_type": "markdown",
      "source": [
        "### 4. Compare these values to the same computed using the Gaussian approximation"
      ],
      "metadata": {
        "id": "-FK2BWshB-Pp"
      }
    },
    {
      "cell_type": "code",
      "source": [
        "# Step 5: Compute Gaussian VaR and ES\n",
        "z_alpha = norm.ppf(alpha)\n",
        "var_gaussian = mu + sigma2**0.5 * z_alpha\n",
        "es_gaussian = mu + sigma2**0.5 * norm.pdf(z_alpha) / (1 - alpha)\n",
        "print(\"Gaussian VaR (99%):\", var_gaussian)\n",
        "print(\"Gaussian ES (99%):\", es_gaussian)"
      ],
      "metadata": {
        "colab": {
          "base_uri": "https://localhost:8080/"
        },
        "id": "RN5sP7-CB9mu",
        "outputId": "fbb3ba26-6bc1-4fc2-c024-0b6c47c15777"
      },
      "execution_count": null,
      "outputs": [
        {
          "output_type": "stream",
          "name": "stdout",
          "text": [
            "Gaussian VaR (99%): 0.027218147341625594\n",
            "Gaussian ES (99%): 0.031225808886896723\n"
          ]
        }
      ]
    },
    {
      "cell_type": "markdown",
      "source": [
        "### 5. Compute the difference between the empirical risk measures and the one computed from the Gaussian model"
      ],
      "metadata": {
        "id": "Mc5BfLiqEZ2i"
      }
    },
    {
      "cell_type": "code",
      "source": [
        "var_diff = var_empirical -var_gaussian\n",
        "es_diff = es_empirical-es_gaussian\n",
        "print('VaR difference:', var_diff)\n",
        "print('ES difference:', es_diff)"
      ],
      "metadata": {
        "colab": {
          "base_uri": "https://localhost:8080/"
        },
        "id": "yM8Rb1b_Eg2J",
        "outputId": "f2bbece1-7d23-41e7-9a14-7d1515dd5c1f"
      },
      "execution_count": null,
      "outputs": [
        {
          "output_type": "stream",
          "name": "stdout",
          "text": [
            "VaR difference: 0.006220813472579086\n",
            "ES difference: 0.017702167349847434\n"
          ]
        }
      ]
    },
    {
      "cell_type": "markdown",
      "source": [
        "### 6. Compute the percentage increase in the risk measures from the empirical to the Gaussian ones"
      ],
      "metadata": {
        "id": "MY5RJWcbFBU7"
      }
    },
    {
      "cell_type": "code",
      "source": [
        "var_increase = (-var_diff) / var_empirical * 100\n",
        "es_increase = (-es_diff) / es_empirical * 100\n",
        "print('VaR percentage increase: {:.2f}'.format(var_increase), '%')\n",
        "print('ES percentage increase: {:.2f}'.format(es_increase), '%')\n"
      ],
      "metadata": {
        "colab": {
          "base_uri": "https://localhost:8080/"
        },
        "id": "yR0U6yhaFApQ",
        "outputId": "9849e1e4-28ec-4d0e-9e37-e964689340af"
      },
      "execution_count": null,
      "outputs": [
        {
          "output_type": "stream",
          "name": "stdout",
          "text": [
            "VaR percentage increase: -18.60 %\n",
            "ES percentage increase: -36.18 %\n"
          ]
        }
      ]
    },
    {
      "cell_type": "markdown",
      "source": [
        "### 7. Find the largest loss in the database $X_N$"
      ],
      "metadata": {
        "id": "1Q6pz58QF0UY"
      }
    },
    {
      "cell_type": "code",
      "source": [
        "largest_loss=losses.max()\n",
        "print('Largest loss:',largest_loss)"
      ],
      "metadata": {
        "colab": {
          "base_uri": "https://localhost:8080/"
        },
        "id": "OcihlHYcGFtR",
        "outputId": "e70815fc-fa12-4cbd-ab76-0c393f33aa9e"
      },
      "execution_count": null,
      "outputs": [
        {
          "output_type": "stream",
          "name": "stdout",
          "text": [
            "Largest loss: 0.12765219747281709\n"
          ]
        }
      ]
    },
    {
      "cell_type": "markdown",
      "source": [
        "### 8. Find the second largest loss in the database $X_{N-1}$"
      ],
      "metadata": {
        "id": "zzu4jPauHEG9"
      }
    },
    {
      "cell_type": "code",
      "source": [
        "second_largest_loss = losses.nlargest(2).iloc[-1]\n",
        "print('Second largest loss:', second_largest_loss)"
      ],
      "metadata": {
        "colab": {
          "base_uri": "https://localhost:8080/"
        },
        "id": "szoRgMh8KrOd",
        "outputId": "476bd9f5-3d81-4cf8-ff3f-10c6051ee2f8"
      },
      "execution_count": null,
      "outputs": [
        {
          "output_type": "stream",
          "name": "stdout",
          "text": [
            "Second largest loss: 0.09994485240247286\n"
          ]
        }
      ]
    },
    {
      "cell_type": "markdown",
      "source": [
        "### 9. Compute the probability of find a loss bigger than $X_{N-1}$ in the Gaussian model"
      ],
      "metadata": {
        "id": "uARRYq_JL1MU"
      }
    },
    {
      "cell_type": "code",
      "source": [
        "p_loss_greater_than_second_largest = 1 - norm.cdf(second_largest_loss, mu, sigma2**0.5)\n",
        "\n",
        "print('Probability of finding a loss greater than the second largest loss in the Gaussian model:', p_loss_greater_than_second_largest)"
      ],
      "metadata": {
        "colab": {
          "base_uri": "https://localhost:8080/"
        },
        "id": "3PyEYsbsL1ia",
        "outputId": "c715fa8f-ecb5-49de-eaf9-84c4dbb12c87"
      },
      "execution_count": null,
      "outputs": [
        {
          "output_type": "stream",
          "name": "stdout",
          "text": [
            "Probability of finding a loss greater than the second largest loss in the Gaussian model: 0.0\n"
          ]
        }
      ]
    }
  ]
}